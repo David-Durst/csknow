{
 "cells": [
  {
   "cell_type": "code",
   "execution_count": 2,
   "metadata": {
    "collapsed": true
   },
   "outputs": [],
   "source": [
    "from pylab import *\n",
    "import matplotlib.pyplot as plt\n",
    "import os\n",
    "import pyAgrum as gum"
   ]
  },
  {
   "cell_type": "code",
   "execution_count": 11,
   "outputs": [
    {
     "name": "stdout",
     "output_type": "stream",
     "text": [
      "BN{nodes: 0, arcs: 0, domainSize: 1, dim: 0, mem: 0o}\n",
      "0\n"
     ]
    }
   ],
   "source": [
    "bn=gum.BayesNet('WaterSprinkler')\n",
    "print(bn)\n",
    "c=bn.add(gum.LabelizedVariable('c','cloudy ?',2))\n",
    "print(c)\n"
   ],
   "metadata": {
    "collapsed": false
   }
  },
  {
   "cell_type": "code",
   "execution_count": 12,
   "outputs": [
    {
     "name": "stdout",
     "output_type": "stream",
     "text": [
      "1 2 3\n",
      "BN{nodes: 4, arcs: 0, domainSize: 16, dim: 4, mem: 64o}\n"
     ]
    }
   ],
   "source": [
    "s, r, w = [ bn.add(name, 2) for name in \"srw\" ]\n",
    "print (s,r,w)\n",
    "print (bn)"
   ],
   "metadata": {
    "collapsed": false
   }
  },
  {
   "cell_type": "code",
   "execution_count": 13,
   "outputs": [],
   "source": [
    "bn.addArc(c,s)"
   ],
   "metadata": {
    "collapsed": false
   }
  },
  {
   "cell_type": "code",
   "execution_count": 14,
   "outputs": [
    {
     "name": "stdout",
     "output_type": "stream",
     "text": [
      "BN{nodes: 4, arcs: 4, domainSize: 16, dim: 9, mem: 144o}\n"
     ]
    }
   ],
   "source": [
    "for link in [(c,r),(s,w),(r,w)]:\n",
    "    bn.addArc(*link)\n",
    "print(bn)\n"
   ],
   "metadata": {
    "collapsed": false
   }
  },
  {
   "cell_type": "code",
   "execution_count": 15,
   "outputs": [
    {
     "data": {
      "text/plain": "(pyAgrum.BayesNet<double>@0000022440013470) BN{nodes: 4, arcs: 4, domainSize: 16, dim: 9, mem: 144o}",
      "text/html": "<svg xmlns=\"http://www.w3.org/2000/svg\" xmlns:xlink=\"http://www.w3.org/1999/xlink\" width=\"134pt\" height=\"188pt\" viewBox=\"0.00 0.00 134.00 188.00\">\n<g id=\"graph0\" class=\"graph\" transform=\"scale(1 1) rotate(0) translate(4 184)\">\n<title>G</title>\n<!-- s -->\n<g id=\"node1\" class=\"node\">\n<title>s</title>\n<g id=\"a_node1\"><a xlink:title=\"(1) s\">\n<ellipse fill=\"#404040\" stroke=\"black\" cx=\"27\" cy=\"-90\" rx=\"27\" ry=\"18\"/>\n<text text-anchor=\"middle\" x=\"27\" y=\"-86.3\" font-family=\"Times New Roman,serif\" font-size=\"14.00\" fill=\"white\">s</text>\n</a>\n</g>\n</g>\n<!-- w -->\n<g id=\"node4\" class=\"node\">\n<title>w</title>\n<g id=\"a_node4\"><a xlink:title=\"(3) w\">\n<ellipse fill=\"#404040\" stroke=\"black\" cx=\"63\" cy=\"-18\" rx=\"27\" ry=\"18\"/>\n<text text-anchor=\"middle\" x=\"63\" y=\"-14.3\" font-family=\"Times New Roman,serif\" font-size=\"14.00\" fill=\"white\">w</text>\n</a>\n</g>\n</g>\n<!-- s&#45;&gt;w -->\n<g id=\"edge4\" class=\"edge\">\n<title>s-&gt;w</title>\n<g id=\"a_edge4\"><a xlink:title=\"1 → 3\">\n<path fill=\"none\" stroke=\"#4a4a4a\" d=\"M35.35,-72.76C39.71,-64.28 45.15,-53.71 50.04,-44.2\"/>\n<polygon fill=\"#4a4a4a\" stroke=\"#4a4a4a\" points=\"53.23,-45.64 54.7,-35.15 47.01,-42.44 53.23,-45.64\"/>\n</a>\n</g>\n</g>\n<!-- c -->\n<g id=\"node2\" class=\"node\">\n<title>c</title>\n<g id=\"a_node2\"><a xlink:title=\"(0) c\">\n<ellipse fill=\"#404040\" stroke=\"black\" cx=\"63\" cy=\"-162\" rx=\"27\" ry=\"18\"/>\n<text text-anchor=\"middle\" x=\"63\" y=\"-158.3\" font-family=\"Times New Roman,serif\" font-size=\"14.00\" fill=\"white\">c</text>\n</a>\n</g>\n</g>\n<!-- c&#45;&gt;s -->\n<g id=\"edge1\" class=\"edge\">\n<title>c-&gt;s</title>\n<g id=\"a_edge1\"><a xlink:title=\"0 → 1\">\n<path fill=\"none\" stroke=\"#4a4a4a\" d=\"M54.65,-144.76C50.29,-136.28 44.85,-125.71 39.96,-116.2\"/>\n<polygon fill=\"#4a4a4a\" stroke=\"#4a4a4a\" points=\"42.99,-114.44 35.3,-107.15 36.77,-117.64 42.99,-114.44\"/>\n</a>\n</g>\n</g>\n<!-- r -->\n<g id=\"node3\" class=\"node\">\n<title>r</title>\n<g id=\"a_node3\"><a xlink:title=\"(2) r\">\n<ellipse fill=\"#404040\" stroke=\"black\" cx=\"99\" cy=\"-90\" rx=\"27\" ry=\"18\"/>\n<text text-anchor=\"middle\" x=\"99\" y=\"-86.3\" font-family=\"Times New Roman,serif\" font-size=\"14.00\" fill=\"white\">r</text>\n</a>\n</g>\n</g>\n<!-- c&#45;&gt;r -->\n<g id=\"edge2\" class=\"edge\">\n<title>c-&gt;r</title>\n<g id=\"a_edge2\"><a xlink:title=\"0 → 2\">\n<path fill=\"none\" stroke=\"#4a4a4a\" d=\"M71.35,-144.76C75.71,-136.28 81.15,-125.71 86.04,-116.2\"/>\n<polygon fill=\"#4a4a4a\" stroke=\"#4a4a4a\" points=\"89.23,-117.64 90.7,-107.15 83.01,-114.44 89.23,-117.64\"/>\n</a>\n</g>\n</g>\n<!-- r&#45;&gt;w -->\n<g id=\"edge3\" class=\"edge\">\n<title>r-&gt;w</title>\n<g id=\"a_edge3\"><a xlink:title=\"2 → 3\">\n<path fill=\"none\" stroke=\"#4a4a4a\" d=\"M90.65,-72.76C86.29,-64.28 80.85,-53.71 75.96,-44.2\"/>\n<polygon fill=\"#4a4a4a\" stroke=\"#4a4a4a\" points=\"78.99,-42.44 71.3,-35.15 72.77,-45.64 78.99,-42.44\"/>\n</a>\n</g>\n</g>\n</g>\n</svg>"
     },
     "execution_count": 15,
     "metadata": {},
     "output_type": "execute_result"
    }
   ],
   "source": [
    "import pyAgrum.lib.notebook as gnb\n",
    "bn\n"
   ],
   "metadata": {
    "collapsed": false
   }
  },
  {
   "cell_type": "code",
   "execution_count": 16,
   "outputs": [
    {
     "data": {
      "text/plain": "(pyAgrum.Potential<double>@000002244006FF10) \n  c                |\n0        |1        |\n---------|---------|\n 0.4000  | 0.6000  |",
      "text/html": "<table style=\"border:1px solid black;\">\n<tr style='border:1px solid black;color:black;background-color:#808080'>\n      <th colspan='2'><center>c</center></th></tr>\n<tr><th style='border:1px solid black;border-bottom-style: double;color:black;background-color:#BBBBBB'>\n      <center>0</center></th><th style='border:1px solid black;border-bottom-style: double;color:black;background-color:#BBBBBB'>\n      <center>1</center></th></tr>\n<tr><td style='color:black;background-color:#cbb264;text-align:right;'>0.4000</td><td style='color:black;background-color:#b2cb64;text-align:right;'>0.6000</td></tr>\n</table>"
     },
     "execution_count": 16,
     "metadata": {},
     "output_type": "execute_result"
    }
   ],
   "source": [
    "bn.cpt(c).fillWith([0.4,0.6]) # remember : c=  0"
   ],
   "metadata": {
    "collapsed": false
   }
  },
  {
   "cell_type": "code",
   "execution_count": 17,
   "outputs": [
    {
     "data": {
      "text/plain": "(pyAgrum.Potential<double>@000002244006FF10) \n  c                |\n0        |1        |\n---------|---------|\n 0.5000  | 0.5000  |",
      "text/html": "<table style=\"border:1px solid black;\">\n<tr style='border:1px solid black;color:black;background-color:#808080'>\n      <th colspan='2'><center>c</center></th></tr>\n<tr><th style='border:1px solid black;border-bottom-style: double;color:black;background-color:#BBBBBB'>\n      <center>0</center></th><th style='border:1px solid black;border-bottom-style: double;color:black;background-color:#BBBBBB'>\n      <center>1</center></th></tr>\n<tr><td style='color:black;background-color:#bfbf64;text-align:right;'>0.5000</td><td style='color:black;background-color:#bfbf64;text-align:right;'>0.5000</td></tr>\n</table>"
     },
     "execution_count": 17,
     "metadata": {},
     "output_type": "execute_result"
    }
   ],
   "source": [
    "bn.cpt(\"c\").fillWith([0.5,0.5])"
   ],
   "metadata": {
    "collapsed": false
   }
  },
  {
   "cell_type": "code",
   "execution_count": 18,
   "outputs": [
    {
     "data": {
      "text/plain": "('s', 'c')"
     },
     "execution_count": 18,
     "metadata": {},
     "output_type": "execute_result"
    }
   ],
   "source": [
    "bn.cpt(\"s\").names"
   ],
   "metadata": {
    "collapsed": false
   }
  },
  {
   "cell_type": "code",
   "execution_count": 25,
   "outputs": [],
   "source": [
    "bn.cpt(\"s\")[:]=[ [0.5,0.5],[0.9,0.1]]"
   ],
   "metadata": {
    "collapsed": false
   }
  },
  {
   "cell_type": "code",
   "execution_count": 23,
   "outputs": [],
   "source": [
    "bn.cpt(\"s\")[0,:]=0.5 # equivalent to [0.5,0.5]\n",
    "bn.cpt(\"s\")[1,:]=[0.9,0.1]"
   ],
   "metadata": {
    "collapsed": false
   }
  },
  {
   "cell_type": "code",
   "execution_count": 28,
   "outputs": [],
   "source": [
    "bn.cpt(\"r\")[{'c':0}]=[0.8,0.2]\n",
    "bn.cpt(\"r\")[{'c':1}]=[0.2,0.8]"
   ],
   "metadata": {
    "collapsed": false
   }
  },
  {
   "cell_type": "code",
   "execution_count": 31,
   "outputs": [],
   "source": [
    "bn.cpt(\"w\")[0,0,:] = [1, 0] # r=0,s=0\n",
    "bn.cpt(\"w\")[0,1,:] = [0.1, 0.9] # r=0,s=1\n",
    "bn.cpt(\"w\")[1,0,:] = [0.1, 0.9] # r=1,s=0\n",
    "bn.cpt(\"w\")[1,1,:] = [0.01, 0.99] # r=1,s=1"
   ],
   "metadata": {
    "collapsed": false
   }
  },
  {
   "cell_type": "code",
   "execution_count": 32,
   "outputs": [
    {
     "name": "stdout",
     "output_type": "stream",
     "text": [
      "('w', 's', 'r')\n"
     ]
    },
    {
     "data": {
      "text/plain": "(pyAgrum.Potential<double>@000002244006FB30) \n             ||  w                |\ns     |r     ||0        |1        |\n------|------||---------|---------|\n0     |0     || 1.0000  | 0.0000  |\n1     |0     || 0.1000  | 0.9000  |\n0     |1     || 0.1000  | 0.9000  |\n1     |1     || 0.0100  | 0.9900  |",
      "text/html": "<table style=\"border:1px solid black;\">\n<tr><th colspan='2'></th>\n      <th colspan='2' style='border:1px solid black;color:black;background-color:#808080;'><center>w</center>\n      </th></tr>\n<tr><th style='border:1px solid black;color:black;background-color:#808080'><center>r</center></th><th style='border:1px solid black;color:black;background-color:#808080'><center>s</center></th><th style='border:1px solid black;border-bottom-style: double;color:black;background-color:#BBBBBB'>\n      <center>0</center></th><th style='border:1px solid black;border-bottom-style: double;color:black;background-color:#BBBBBB'>\n      <center>1</center></th></tr>\n<tr><th style='border:1px solid black;color:black;background-color:#BBBBBB;' rowspan = '2'>\n            <center>0</center></th><th style='border:1px solid black;color:black;background-color:#BBBBBB'><center>0</center></th><td style='color:black;background-color:#7fff64;text-align:right;'>1.0000</td><td style='color:black;background-color:#ff7f64;text-align:right;'>0.0000</td></tr>\n<tr><th style='border:1px solid black;color:black;background-color:#BBBBBB'><center>1</center></th><td style='color:black;background-color:#f28b64;text-align:right;'>0.1000</td><td style='color:black;background-color:#8bf264;text-align:right;'>0.9000</td></tr>\n<tr><th style='border:1px solid black;color:black;background-color:#BBBBBB;' rowspan = '2'>\n            <center>1</center></th><th style='border:1px solid black;color:black;background-color:#BBBBBB'><center>0</center></th><td style='color:black;background-color:#f28b64;text-align:right;'>0.1000</td><td style='color:black;background-color:#8bf264;text-align:right;'>0.9000</td></tr>\n<tr><th style='border:1px solid black;color:black;background-color:#BBBBBB'><center>1</center></th><td style='color:black;background-color:#fd8064;text-align:right;'>0.0100</td><td style='color:black;background-color:#80fd64;text-align:right;'>0.9900</td></tr>\n</table>"
     },
     "execution_count": 32,
     "metadata": {},
     "output_type": "execute_result"
    }
   ],
   "source": [
    "print(bn.cpt(\"w\").names)\n",
    "bn.cpt(\"w\")\n"
   ],
   "metadata": {
    "collapsed": false
   }
  },
  {
   "cell_type": "code",
   "execution_count": 33,
   "outputs": [],
   "source": [
    "ie=gum.LazyPropagation(bn)"
   ],
   "metadata": {
    "collapsed": false
   }
  },
  {
   "cell_type": "code",
   "execution_count": 34,
   "outputs": [
    {
     "name": "stdout",
     "output_type": "stream",
     "text": [
      "\n",
      "  w                |\n",
      "0        |1        |\n",
      "---------|---------|\n",
      " 0.3529  | 0.6471  |\n",
      "\n"
     ]
    }
   ],
   "source": [
    "ie.makeInference()\n",
    "print (ie.posterior(\"w\"))"
   ],
   "metadata": {
    "collapsed": false
   }
  },
  {
   "cell_type": "code",
   "execution_count": 35,
   "outputs": [
    {
     "data": {
      "text/plain": "(pyAgrum.Potential<double>@000002244006FC10) \n  w                |\n0        |1        |\n---------|---------|\n 0.8200  | 0.1800  |",
      "text/html": "<table style=\"border:1px solid black;\">\n<tr style='border:1px solid black;color:black;background-color:#808080'>\n      <th colspan='2'><center>w</center></th></tr>\n<tr><th style='border:1px solid black;border-bottom-style: double;color:black;background-color:#BBBBBB'>\n      <center>0</center></th><th style='border:1px solid black;border-bottom-style: double;color:black;background-color:#BBBBBB'>\n      <center>1</center></th></tr>\n<tr><td style='color:black;background-color:#96e764;text-align:right;'>0.8200</td><td style='color:black;background-color:#e79664;text-align:right;'>0.1800</td></tr>\n</table>"
     },
     "execution_count": 35,
     "metadata": {},
     "output_type": "execute_result"
    }
   ],
   "source": [
    "ie.setEvidence({'s':0, 'c': 0})\n",
    "ie.makeInference()\n",
    "ie.posterior(\"w\")\n"
   ],
   "metadata": {
    "collapsed": false
   }
  },
  {
   "cell_type": "code",
   "execution_count": 37,
   "outputs": [
    {
     "data": {
      "text/plain": "(pyAgrum.Potential<double>@0000022440070830) \n  r                |\n0        |1        |\n---------|---------|\n 0.9756  | 0.0244  |",
      "text/html": "<table style=\"border:1px solid black;\">\n<tr style='border:1px solid black;color:black;background-color:#808080'>\n      <th colspan='2'><center>r</center></th></tr>\n<tr><th style='border:1px solid black;border-bottom-style: double;color:black;background-color:#BBBBBB'>\n      <center>0</center></th><th style='border:1px solid black;border-bottom-style: double;color:black;background-color:#BBBBBB'>\n      <center>1</center></th></tr>\n<tr><td style='color:black;background-color:#82fb64;text-align:right;'>0.9756</td><td style='color:black;background-color:#fb8264;text-align:right;'>0.0244</td></tr>\n</table>"
     },
     "execution_count": 37,
     "metadata": {},
     "output_type": "execute_result"
    }
   ],
   "source": [
    "ie.setEvidence({'s':0, 'c': 0, 'w': 0})\n",
    "ie.posterior(\"r\")"
   ],
   "metadata": {
    "collapsed": false
   }
  }
 ],
 "metadata": {
  "kernelspec": {
   "display_name": "Python 3",
   "language": "python",
   "name": "python3"
  },
  "language_info": {
   "codemirror_mode": {
    "name": "ipython",
    "version": 2
   },
   "file_extension": ".py",
   "mimetype": "text/x-python",
   "name": "python",
   "nbconvert_exporter": "python",
   "pygments_lexer": "ipython2",
   "version": "2.7.6"
  }
 },
 "nbformat": 4,
 "nbformat_minor": 0
}
