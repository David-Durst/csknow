{
 "cells": [
  {
   "cell_type": "code",
   "execution_count": 2,
   "metadata": {
    "collapsed": true
   },
   "outputs": [],
   "source": [
    "import pyAgrum as gum\n",
    "import pyAgrum.lib.notebook as gnb\n",
    "import pyAgrum.lib.dynamicBN as gdyn\n"
   ]
  },
  {
   "cell_type": "code",
   "execution_count": 27,
   "outputs": [
    {
     "data": {
      "text/plain": "(pyAgrum.BayesNet<double>@0000024252EC8C40) BN{nodes: 8, arcs: 8, domainSize: 10^6.22521, dim: 490, mem: 4Ko 608o}",
      "text/html": "<svg xmlns=\"http://www.w3.org/2000/svg\" xmlns:xlink=\"http://www.w3.org/1999/xlink\" width=\"134pt\" height=\"332pt\" viewBox=\"0.00 0.00 134.00 332.00\">\n<g id=\"graph0\" class=\"graph\" transform=\"scale(1 1) rotate(0) translate(4 328)\">\n<title>G</title>\n<!-- w0 -->\n<g id=\"node1\" class=\"node\">\n<title>w0</title>\n<g id=\"a_node1\"><a xlink:title=\"(3) w0\">\n<ellipse fill=\"#404040\" stroke=\"black\" cx=\"99\" cy=\"-90\" rx=\"27\" ry=\"18\"/>\n<text text-anchor=\"middle\" x=\"99\" y=\"-86.3\" font-family=\"Times New Roman,serif\" font-size=\"14.00\" fill=\"white\">w0</text>\n</a>\n</g>\n</g>\n<!-- vt -->\n<g id=\"node2\" class=\"node\">\n<title>vt</title>\n<g id=\"a_node2\"><a xlink:title=\"(4) vt\">\n<ellipse fill=\"#404040\" stroke=\"black\" cx=\"27\" cy=\"-234\" rx=\"27\" ry=\"18\"/>\n<text text-anchor=\"middle\" x=\"27\" y=\"-230.3\" font-family=\"Times New Roman,serif\" font-size=\"14.00\" fill=\"white\">vt</text>\n</a>\n</g>\n</g>\n<!-- et -->\n<g id=\"node4\" class=\"node\">\n<title>et</title>\n<g id=\"a_node4\"><a xlink:title=\"(5) et\">\n<ellipse fill=\"#404040\" stroke=\"black\" cx=\"27\" cy=\"-162\" rx=\"27\" ry=\"18\"/>\n<text text-anchor=\"middle\" x=\"27\" y=\"-158.3\" font-family=\"Times New Roman,serif\" font-size=\"14.00\" fill=\"white\">et</text>\n</a>\n</g>\n</g>\n<!-- vt&#45;&gt;et -->\n<g id=\"edge6\" class=\"edge\">\n<title>vt-&gt;et</title>\n<g id=\"a_edge6\"><a xlink:title=\"4 → 5\">\n<path fill=\"none\" stroke=\"#4a4a4a\" d=\"M27,-215.7C27,-207.98 27,-198.71 27,-190.11\"/>\n<polygon fill=\"#4a4a4a\" stroke=\"#4a4a4a\" points=\"30.5,-190.1 27,-180.1 23.5,-190.1 30.5,-190.1\"/>\n</a>\n</g>\n</g>\n<!-- wt -->\n<g id=\"node3\" class=\"node\">\n<title>wt</title>\n<g id=\"a_node3\"><a xlink:title=\"(7) wt\">\n<ellipse fill=\"#404040\" stroke=\"black\" cx=\"27\" cy=\"-18\" rx=\"27\" ry=\"18\"/>\n<text text-anchor=\"middle\" x=\"27\" y=\"-14.3\" font-family=\"Times New Roman,serif\" font-size=\"14.00\" fill=\"white\">wt</text>\n</a>\n</g>\n</g>\n<!-- tt -->\n<g id=\"node7\" class=\"node\">\n<title>tt</title>\n<g id=\"a_node7\"><a xlink:title=\"(6) tt\">\n<ellipse fill=\"#404040\" stroke=\"black\" cx=\"27\" cy=\"-90\" rx=\"27\" ry=\"18\"/>\n<text text-anchor=\"middle\" x=\"27\" y=\"-86.3\" font-family=\"Times New Roman,serif\" font-size=\"14.00\" fill=\"white\">tt</text>\n</a>\n</g>\n</g>\n<!-- et&#45;&gt;tt -->\n<g id=\"edge8\" class=\"edge\">\n<title>et-&gt;tt</title>\n<g id=\"a_edge8\"><a xlink:title=\"5 → 6\">\n<path fill=\"none\" stroke=\"#4a4a4a\" d=\"M27,-143.7C27,-135.98 27,-126.71 27,-118.11\"/>\n<polygon fill=\"#4a4a4a\" stroke=\"#4a4a4a\" points=\"30.5,-118.1 27,-108.1 23.5,-118.1 30.5,-118.1\"/>\n</a>\n</g>\n</g>\n<!-- t0 -->\n<g id=\"node5\" class=\"node\">\n<title>t0</title>\n<g id=\"a_node5\"><a xlink:title=\"(2) t0\">\n<ellipse fill=\"#404040\" stroke=\"black\" cx=\"99\" cy=\"-162\" rx=\"27\" ry=\"18\"/>\n<text text-anchor=\"middle\" x=\"99\" y=\"-158.3\" font-family=\"Times New Roman,serif\" font-size=\"14.00\" fill=\"white\">t0</text>\n</a>\n</g>\n</g>\n<!-- t0&#45;&gt;w0 -->\n<g id=\"edge4\" class=\"edge\">\n<title>t0-&gt;w0</title>\n<g id=\"a_edge4\"><a xlink:title=\"2 → 3\">\n<path fill=\"none\" stroke=\"#4a4a4a\" d=\"M99,-143.7C99,-135.98 99,-126.71 99,-118.11\"/>\n<polygon fill=\"#4a4a4a\" stroke=\"#4a4a4a\" points=\"102.5,-118.1 99,-108.1 95.5,-118.1 102.5,-118.1\"/>\n</a>\n</g>\n</g>\n<!-- t0&#45;&gt;tt -->\n<g id=\"edge7\" class=\"edge\">\n<title>t0-&gt;tt</title>\n<g id=\"a_edge7\"><a xlink:title=\"2 → 6\">\n<path fill=\"none\" stroke=\"#4a4a4a\" d=\"M84.43,-146.83C74.25,-136.94 60.48,-123.55 48.97,-112.36\"/>\n<polygon fill=\"#4a4a4a\" stroke=\"#4a4a4a\" points=\"51.41,-109.85 41.8,-105.38 46.53,-114.87 51.41,-109.85\"/>\n</a>\n</g>\n</g>\n<!-- e0 -->\n<g id=\"node6\" class=\"node\">\n<title>e0</title>\n<g id=\"a_node6\"><a xlink:title=\"(1) e0\">\n<ellipse fill=\"#404040\" stroke=\"black\" cx=\"99\" cy=\"-234\" rx=\"27\" ry=\"18\"/>\n<text text-anchor=\"middle\" x=\"99\" y=\"-230.3\" font-family=\"Times New Roman,serif\" font-size=\"14.00\" fill=\"white\">e0</text>\n</a>\n</g>\n</g>\n<!-- e0&#45;&gt;et -->\n<g id=\"edge3\" class=\"edge\">\n<title>e0-&gt;et</title>\n<g id=\"a_edge3\"><a xlink:title=\"1 → 5\">\n<path fill=\"none\" stroke=\"#4a4a4a\" d=\"M84.43,-218.83C74.25,-208.94 60.48,-195.55 48.97,-184.36\"/>\n<polygon fill=\"#4a4a4a\" stroke=\"#4a4a4a\" points=\"51.41,-181.85 41.8,-177.38 46.53,-186.87 51.41,-181.85\"/>\n</a>\n</g>\n</g>\n<!-- e0&#45;&gt;t0 -->\n<g id=\"edge2\" class=\"edge\">\n<title>e0-&gt;t0</title>\n<g id=\"a_edge2\"><a xlink:title=\"1 → 2\">\n<path fill=\"none\" stroke=\"#4a4a4a\" d=\"M99,-215.7C99,-207.98 99,-198.71 99,-190.11\"/>\n<polygon fill=\"#4a4a4a\" stroke=\"#4a4a4a\" points=\"102.5,-190.1 99,-180.1 95.5,-190.1 102.5,-190.1\"/>\n</a>\n</g>\n</g>\n<!-- tt&#45;&gt;wt -->\n<g id=\"edge5\" class=\"edge\">\n<title>tt-&gt;wt</title>\n<g id=\"a_edge5\"><a xlink:title=\"6 → 7\">\n<path fill=\"none\" stroke=\"#4a4a4a\" d=\"M27,-71.7C27,-63.98 27,-54.71 27,-46.11\"/>\n<polygon fill=\"#4a4a4a\" stroke=\"#4a4a4a\" points=\"30.5,-46.1 27,-36.1 23.5,-46.1 30.5,-46.1\"/>\n</a>\n</g>\n</g>\n<!-- v0 -->\n<g id=\"node8\" class=\"node\">\n<title>v0</title>\n<g id=\"a_node8\"><a xlink:title=\"(0) v0\">\n<ellipse fill=\"#404040\" stroke=\"black\" cx=\"99\" cy=\"-306\" rx=\"27\" ry=\"18\"/>\n<text text-anchor=\"middle\" x=\"99\" y=\"-302.3\" font-family=\"Times New Roman,serif\" font-size=\"14.00\" fill=\"white\">v0</text>\n</a>\n</g>\n</g>\n<!-- v0&#45;&gt;e0 -->\n<g id=\"edge1\" class=\"edge\">\n<title>v0-&gt;e0</title>\n<g id=\"a_edge1\"><a xlink:title=\"0 → 1\">\n<path fill=\"none\" stroke=\"#4a4a4a\" d=\"M99,-287.7C99,-279.98 99,-270.71 99,-262.11\"/>\n<polygon fill=\"#4a4a4a\" stroke=\"#4a4a4a\" points=\"102.5,-262.1 99,-252.1 95.5,-262.1 102.5,-262.1\"/>\n</a>\n</g>\n</g>\n</g>\n</svg>"
     },
     "execution_count": 27,
     "metadata": {},
     "output_type": "execute_result"
    }
   ],
   "source": [
    "twodbn=gum.fastBN(\"v0->e0;r0->e0;c0->e0;e0->t0;t0->ws0;e0->et;t0->tt\",6)\n",
    "twodbn=gum.fastbn(\"v0->e0;e0->t0;t0->w0;vt->et;et->tt;tt->wt;e0->et;t0->tt\",6)\n",
    "twodbn"
   ],
   "metadata": {
    "collapsed": false
   }
  },
  {
   "cell_type": "code",
   "execution_count": 25,
   "outputs": [
    {
     "data": {
      "text/plain": "(pyAgrum.BayesNet<double>@0000024252E38640) BN{nodes: 8, arcs: 11, domainSize: 419904, dim: 988, mem: 9Ko 384o}",
      "text/html": "<svg xmlns=\"http://www.w3.org/2000/svg\" xmlns:xlink=\"http://www.w3.org/1999/xlink\" width=\"275pt\" height=\"188pt\" viewBox=\"0.00 0.00 274.53 188.00\">\n<g id=\"graph0\" class=\"graph\" transform=\"scale(1 1) rotate(0) translate(4 184)\">\n<title>G</title>\n<!-- ct -->\n<g id=\"node1\" class=\"node\">\n<title>ct</title>\n<g id=\"a_node1\"><a xlink:title=\"(1) ct\">\n<ellipse fill=\"#404040\" stroke=\"black\" cx=\"39.53\" cy=\"-18\" rx=\"27\" ry=\"18\"/>\n<text text-anchor=\"middle\" x=\"39.53\" y=\"-14.3\" font-family=\"Times New Roman,serif\" font-size=\"14.00\" fill=\"white\">ct</text>\n</a>\n</g>\n</g>\n<!-- c0 -->\n<g id=\"node2\" class=\"node\">\n<title>c0</title>\n<g id=\"a_node2\"><a xlink:title=\"(7) c0\">\n<ellipse fill=\"#404040\" stroke=\"black\" cx=\"39.53\" cy=\"-162\" rx=\"27\" ry=\"18\"/>\n<text text-anchor=\"middle\" x=\"39.53\" y=\"-158.3\" font-family=\"Times New Roman,serif\" font-size=\"14.00\" fill=\"white\">c0</text>\n</a>\n</g>\n</g>\n<!-- c0&#45;&gt;ct -->\n<g id=\"edge2\" class=\"edge\">\n<title>c0-&gt;ct</title>\n<g id=\"a_edge2\"><a xlink:title=\"7 → 1\">\n<path fill=\"none\" stroke=\"#4a4a4a\" d=\"M25.78,-146.07C17.57,-136.1 7.91,-122.25 3.53,-108 -1.18,-92.71 -1.18,-87.29 3.53,-72 6.81,-61.31 13.07,-50.85 19.45,-42.08\"/>\n<polygon fill=\"#4a4a4a\" stroke=\"#4a4a4a\" points=\"22.41,-43.98 25.78,-33.93 16.88,-39.69 22.41,-43.98\"/>\n</a>\n</g>\n</g>\n<!-- d0 -->\n<g id=\"node4\" class=\"node\">\n<title>d0</title>\n<g id=\"a_node4\"><a xlink:title=\"(0) d0\">\n<ellipse fill=\"#404040\" stroke=\"black\" cx=\"39.53\" cy=\"-90\" rx=\"27\" ry=\"18\"/>\n<text text-anchor=\"middle\" x=\"39.53\" y=\"-86.3\" font-family=\"Times New Roman,serif\" font-size=\"14.00\" fill=\"white\">d0</text>\n</a>\n</g>\n</g>\n<!-- c0&#45;&gt;d0 -->\n<g id=\"edge5\" class=\"edge\">\n<title>c0-&gt;d0</title>\n<g id=\"a_edge5\"><a xlink:title=\"7 → 0\">\n<path fill=\"none\" stroke=\"#4a4a4a\" d=\"M39.53,-143.7C39.53,-135.98 39.53,-126.71 39.53,-118.11\"/>\n<polygon fill=\"#4a4a4a\" stroke=\"#4a4a4a\" points=\"43.03,-118.1 39.53,-108.1 36.03,-118.1 43.03,-118.1\"/>\n</a>\n</g>\n</g>\n<!-- at -->\n<g id=\"node8\" class=\"node\">\n<title>at</title>\n<g id=\"a_node8\"><a xlink:title=\"(2) at\">\n<ellipse fill=\"#404040\" stroke=\"black\" cx=\"111.53\" cy=\"-90\" rx=\"27\" ry=\"18\"/>\n<text text-anchor=\"middle\" x=\"111.53\" y=\"-86.3\" font-family=\"Times New Roman,serif\" font-size=\"14.00\" fill=\"white\">at</text>\n</a>\n</g>\n</g>\n<!-- c0&#45;&gt;at -->\n<g id=\"edge8\" class=\"edge\">\n<title>c0-&gt;at</title>\n<g id=\"a_edge8\"><a xlink:title=\"7 → 2\">\n<path fill=\"none\" stroke=\"#4a4a4a\" d=\"M54.1,-146.83C64.28,-136.94 78.05,-123.55 89.56,-112.36\"/>\n<polygon fill=\"#4a4a4a\" stroke=\"#4a4a4a\" points=\"92,-114.87 96.73,-105.38 87.12,-109.85 92,-114.87\"/>\n</a>\n</g>\n</g>\n<!-- b0 -->\n<g id=\"node3\" class=\"node\">\n<title>b0</title>\n<g id=\"a_node3\"><a xlink:title=\"(4) b0\">\n<ellipse fill=\"#404040\" stroke=\"black\" cx=\"221.53\" cy=\"-90\" rx=\"27\" ry=\"18\"/>\n<text text-anchor=\"middle\" x=\"221.53\" y=\"-86.3\" font-family=\"Times New Roman,serif\" font-size=\"14.00\" fill=\"white\">b0</text>\n</a>\n</g>\n</g>\n<!-- bt -->\n<g id=\"node7\" class=\"node\">\n<title>bt</title>\n<g id=\"a_node7\"><a xlink:title=\"(5) bt\">\n<ellipse fill=\"#404040\" stroke=\"black\" cx=\"239.53\" cy=\"-18\" rx=\"27\" ry=\"18\"/>\n<text text-anchor=\"middle\" x=\"239.53\" y=\"-14.3\" font-family=\"Times New Roman,serif\" font-size=\"14.00\" fill=\"white\">bt</text>\n</a>\n</g>\n</g>\n<!-- b0&#45;&gt;bt -->\n<g id=\"edge7\" class=\"edge\">\n<title>b0-&gt;bt</title>\n<g id=\"a_edge7\"><a xlink:title=\"4 → 5\">\n<path fill=\"none\" stroke=\"#4a4a4a\" d=\"M225.88,-72.05C227.92,-64.14 230.39,-54.54 232.66,-45.69\"/>\n<polygon fill=\"#4a4a4a\" stroke=\"#4a4a4a\" points=\"236.11,-46.35 235.21,-35.79 229.33,-44.6 236.11,-46.35\"/>\n</a>\n</g>\n</g>\n<!-- d0&#45;&gt;ct -->\n<g id=\"edge1\" class=\"edge\">\n<title>d0-&gt;ct</title>\n<g id=\"a_edge1\"><a xlink:title=\"0 → 1\">\n<path fill=\"none\" stroke=\"#4a4a4a\" d=\"M39.53,-71.7C39.53,-63.98 39.53,-54.71 39.53,-46.11\"/>\n<polygon fill=\"#4a4a4a\" stroke=\"#4a4a4a\" points=\"43.03,-46.1 39.53,-36.1 36.03,-46.1 43.03,-46.1\"/>\n</a>\n</g>\n</g>\n<!-- dt -->\n<g id=\"node5\" class=\"node\">\n<title>dt</title>\n<g id=\"a_node5\"><a xlink:title=\"(6) dt\">\n<ellipse fill=\"#404040\" stroke=\"black\" cx=\"148.53\" cy=\"-18\" rx=\"27\" ry=\"18\"/>\n<text text-anchor=\"middle\" x=\"148.53\" y=\"-14.3\" font-family=\"Times New Roman,serif\" font-size=\"14.00\" fill=\"white\">dt</text>\n</a>\n</g>\n</g>\n<!-- d0&#45;&gt;dt -->\n<g id=\"edge6\" class=\"edge\">\n<title>d0-&gt;dt</title>\n<g id=\"a_edge6\"><a xlink:title=\"0 → 6\">\n<path fill=\"none\" stroke=\"#4a4a4a\" d=\"M58.51,-76.81C75.86,-65.67 101.72,-49.06 121.27,-36.5\"/>\n<polygon fill=\"#4a4a4a\" stroke=\"#4a4a4a\" points=\"123.24,-39.4 129.76,-31.05 119.45,-33.51 123.24,-39.4\"/>\n</a>\n</g>\n</g>\n<!-- a0 -->\n<g id=\"node6\" class=\"node\">\n<title>a0</title>\n<g id=\"a_node6\"><a xlink:title=\"(3) a0\">\n<ellipse fill=\"#404040\" stroke=\"black\" cx=\"193.53\" cy=\"-162\" rx=\"27\" ry=\"18\"/>\n<text text-anchor=\"middle\" x=\"193.53\" y=\"-158.3\" font-family=\"Times New Roman,serif\" font-size=\"14.00\" fill=\"white\">a0</text>\n</a>\n</g>\n</g>\n<!-- a0&#45;&gt;b0 -->\n<g id=\"edge4\" class=\"edge\">\n<title>a0-&gt;b0</title>\n<g id=\"a_edge4\"><a xlink:title=\"3 → 4\">\n<path fill=\"none\" stroke=\"#4a4a4a\" d=\"M200.16,-144.41C203.44,-136.22 207.47,-126.14 211.15,-116.95\"/>\n<polygon fill=\"#4a4a4a\" stroke=\"#4a4a4a\" points=\"214.47,-118.05 214.94,-107.47 207.98,-115.45 214.47,-118.05\"/>\n</a>\n</g>\n</g>\n<!-- a0&#45;&gt;dt -->\n<g id=\"edge9\" class=\"edge\">\n<title>a0-&gt;dt</title>\n<g id=\"a_edge9\"><a xlink:title=\"3 → 6\">\n<path fill=\"none\" stroke=\"#4a4a4a\" d=\"M188.19,-144.15C180.47,-119.81 166.14,-74.57 156.98,-45.67\"/>\n<polygon fill=\"#4a4a4a\" stroke=\"#4a4a4a\" points=\"160.22,-44.3 153.86,-35.82 153.54,-46.42 160.22,-44.3\"/>\n</a>\n</g>\n</g>\n<!-- a0&#45;&gt;bt -->\n<g id=\"edge11\" class=\"edge\">\n<title>a0-&gt;bt</title>\n<g id=\"a_edge11\"><a xlink:title=\"3 → 5\">\n<path fill=\"none\" stroke=\"#4a4a4a\" d=\"M214.48,-150.24C229.54,-141.22 248.69,-126.8 257.53,-108 267.02,-87.81 260.51,-62.73 252.8,-44.35\"/>\n<polygon fill=\"#4a4a4a\" stroke=\"#4a4a4a\" points=\"255.94,-42.8 248.6,-35.15 249.57,-45.7 255.94,-42.8\"/>\n</a>\n</g>\n</g>\n<!-- a0&#45;&gt;at -->\n<g id=\"edge10\" class=\"edge\">\n<title>a0-&gt;at</title>\n<g id=\"a_edge10\"><a xlink:title=\"3 → 2\">\n<path fill=\"none\" stroke=\"#4a4a4a\" d=\"M177.33,-147.17C165.34,-136.94 148.84,-122.85 135.35,-111.34\"/>\n<polygon fill=\"#4a4a4a\" stroke=\"#4a4a4a\" points=\"137.29,-108.39 127.41,-104.56 132.75,-113.72 137.29,-108.39\"/>\n</a>\n</g>\n</g>\n<!-- at&#45;&gt;ct -->\n<g id=\"edge3\" class=\"edge\">\n<title>at-&gt;ct</title>\n<g id=\"a_edge3\"><a xlink:title=\"2 → 1\">\n<path fill=\"none\" stroke=\"#4a4a4a\" d=\"M96.96,-74.83C86.78,-64.94 73,-51.55 61.5,-40.36\"/>\n<polygon fill=\"#4a4a4a\" stroke=\"#4a4a4a\" points=\"63.93,-37.85 54.32,-33.38 59.05,-42.87 63.93,-37.85\"/>\n</a>\n</g>\n</g>\n</g>\n</svg>"
     },
     "execution_count": 25,
     "metadata": {},
     "output_type": "execute_result"
    }
   ],
   "source": [
    "twodbn=gum.fastBN(\"d0[3]->ct<-at<-a0->b0->bt<-a0->dt[3]<-d0<-c0->ct;c0->at\",6)\n",
    "twodbn"
   ],
   "metadata": {
    "collapsed": false
   }
  },
  {
   "cell_type": "code",
   "execution_count": 35,
   "outputs": [
    {
     "data": {
      "text/plain": "(pyAgrum.BayesNet<double>@0000024252ECCC30) BN{nodes: 8, arcs: 8, domainSize: 10^6.22521, dim: 490, mem: 4Ko 608o}",
      "text/html": "<svg xmlns=\"http://www.w3.org/2000/svg\" xmlns:xlink=\"http://www.w3.org/1999/xlink\" width=\"228pt\" height=\"332pt\" viewBox=\"0.00 0.00 228.44 332.00\">\n<g id=\"graph0\" class=\"graph\" transform=\"scale(1 1) rotate(0) translate(4 328)\">\n<title>G</title>\n<!-- targett -->\n<g id=\"node1\" class=\"node\">\n<title>targett</title>\n<g id=\"a_node1\"><a xlink:title=\"(6) targett\">\n<ellipse fill=\"#404040\" stroke=\"black\" cx=\"55.25\" cy=\"-90\" rx=\"33.29\" ry=\"18\"/>\n<text text-anchor=\"middle\" x=\"55.25\" y=\"-86.3\" font-family=\"Times New Roman,serif\" font-size=\"14.00\" fill=\"white\">targett</text>\n</a>\n</g>\n</g>\n<!-- worldSpeedt -->\n<g id=\"node8\" class=\"node\">\n<title>worldSpeedt</title>\n<g id=\"a_node8\"><a xlink:title=\"(7) worldSpeedt\">\n<ellipse fill=\"#404040\" stroke=\"black\" cx=\"55.25\" cy=\"-18\" rx=\"55.49\" ry=\"18\"/>\n<text text-anchor=\"middle\" x=\"55.25\" y=\"-14.3\" font-family=\"Times New Roman,serif\" font-size=\"14.00\" fill=\"white\">worldSpeedt</text>\n</a>\n</g>\n</g>\n<!-- targett&#45;&gt;worldSpeedt -->\n<g id=\"edge5\" class=\"edge\">\n<title>targett-&gt;worldSpeedt</title>\n<g id=\"a_edge5\"><a xlink:title=\"6 → 7\">\n<path fill=\"none\" stroke=\"#4a4a4a\" d=\"M55.25,-71.7C55.25,-63.98 55.25,-54.71 55.25,-46.11\"/>\n<polygon fill=\"#4a4a4a\" stroke=\"#4a4a4a\" points=\"58.75,-46.1 55.25,-36.1 51.75,-46.1 58.75,-46.1\"/>\n</a>\n</g>\n</g>\n<!-- worldSpeed0 -->\n<g id=\"node2\" class=\"node\">\n<title>worldSpeed0</title>\n<g id=\"a_node2\"><a xlink:title=\"(3) worldSpeed0\">\n<ellipse fill=\"#404040\" stroke=\"black\" cx=\"163.25\" cy=\"-90\" rx=\"57.39\" ry=\"18\"/>\n<text text-anchor=\"middle\" x=\"163.25\" y=\"-86.3\" font-family=\"Times New Roman,serif\" font-size=\"14.00\" fill=\"white\">worldSpeed0</text>\n</a>\n</g>\n</g>\n<!-- visiblet -->\n<g id=\"node3\" class=\"node\">\n<title>visiblet</title>\n<g id=\"a_node3\"><a xlink:title=\"(4) visiblet\">\n<ellipse fill=\"#404040\" stroke=\"black\" cx=\"53.25\" cy=\"-234\" rx=\"36.29\" ry=\"18\"/>\n<text text-anchor=\"middle\" x=\"53.25\" y=\"-230.3\" font-family=\"Times New Roman,serif\" font-size=\"14.00\" fill=\"white\">visiblet</text>\n</a>\n</g>\n</g>\n<!-- engaget -->\n<g id=\"node5\" class=\"node\">\n<title>engaget</title>\n<g id=\"a_node5\"><a xlink:title=\"(5) engaget\">\n<ellipse fill=\"#404040\" stroke=\"black\" cx=\"55.25\" cy=\"-162\" rx=\"38.19\" ry=\"18\"/>\n<text text-anchor=\"middle\" x=\"55.25\" y=\"-158.3\" font-family=\"Times New Roman,serif\" font-size=\"14.00\" fill=\"white\">engaget</text>\n</a>\n</g>\n</g>\n<!-- visiblet&#45;&gt;engaget -->\n<g id=\"edge6\" class=\"edge\">\n<title>visiblet-&gt;engaget</title>\n<g id=\"a_edge6\"><a xlink:title=\"4 → 5\">\n<path fill=\"none\" stroke=\"#4a4a4a\" d=\"M53.74,-215.7C53.96,-207.98 54.22,-198.71 54.47,-190.11\"/>\n<polygon fill=\"#4a4a4a\" stroke=\"#4a4a4a\" points=\"57.97,-190.2 54.76,-180.1 50.97,-190 57.97,-190.2\"/>\n</a>\n</g>\n</g>\n<!-- engage0 -->\n<g id=\"node4\" class=\"node\">\n<title>engage0</title>\n<g id=\"a_node4\"><a xlink:title=\"(1) engage0\">\n<ellipse fill=\"#404040\" stroke=\"black\" cx=\"148.25\" cy=\"-234\" rx=\"40.09\" ry=\"18\"/>\n<text text-anchor=\"middle\" x=\"148.25\" y=\"-230.3\" font-family=\"Times New Roman,serif\" font-size=\"14.00\" fill=\"white\">engage0</text>\n</a>\n</g>\n</g>\n<!-- engage0&#45;&gt;engaget -->\n<g id=\"edge3\" class=\"edge\">\n<title>engage0-&gt;engaget</title>\n<g id=\"a_edge3\"><a xlink:title=\"1 → 5\">\n<path fill=\"none\" stroke=\"#4a4a4a\" d=\"M128.52,-218.15C115.24,-208.16 97.54,-194.83 82.86,-183.78\"/>\n<polygon fill=\"#4a4a4a\" stroke=\"#4a4a4a\" points=\"84.72,-180.8 74.62,-177.58 80.51,-186.39 84.72,-180.8\"/>\n</a>\n</g>\n</g>\n<!-- target0 -->\n<g id=\"node6\" class=\"node\">\n<title>target0</title>\n<g id=\"a_node6\"><a xlink:title=\"(2) target0\">\n<ellipse fill=\"#404040\" stroke=\"black\" cx=\"148.25\" cy=\"-162\" rx=\"35.19\" ry=\"18\"/>\n<text text-anchor=\"middle\" x=\"148.25\" y=\"-158.3\" font-family=\"Times New Roman,serif\" font-size=\"14.00\" fill=\"white\">target0</text>\n</a>\n</g>\n</g>\n<!-- engage0&#45;&gt;target0 -->\n<g id=\"edge2\" class=\"edge\">\n<title>engage0-&gt;target0</title>\n<g id=\"a_edge2\"><a xlink:title=\"1 → 2\">\n<path fill=\"none\" stroke=\"#4a4a4a\" d=\"M148.25,-215.7C148.25,-207.98 148.25,-198.71 148.25,-190.11\"/>\n<polygon fill=\"#4a4a4a\" stroke=\"#4a4a4a\" points=\"151.75,-190.1 148.25,-180.1 144.75,-190.1 151.75,-190.1\"/>\n</a>\n</g>\n</g>\n<!-- engaget&#45;&gt;targett -->\n<g id=\"edge8\" class=\"edge\">\n<title>engaget-&gt;targett</title>\n<g id=\"a_edge8\"><a xlink:title=\"5 → 6\">\n<path fill=\"none\" stroke=\"#4a4a4a\" d=\"M55.25,-143.7C55.25,-135.98 55.25,-126.71 55.25,-118.11\"/>\n<polygon fill=\"#4a4a4a\" stroke=\"#4a4a4a\" points=\"58.75,-118.1 55.25,-108.1 51.75,-118.1 58.75,-118.1\"/>\n</a>\n</g>\n</g>\n<!-- target0&#45;&gt;targett -->\n<g id=\"edge7\" class=\"edge\">\n<title>target0-&gt;targett</title>\n<g id=\"a_edge7\"><a xlink:title=\"2 → 6\">\n<path fill=\"none\" stroke=\"#4a4a4a\" d=\"M128.98,-146.5C115.46,-136.32 97.19,-122.57 82.23,-111.31\"/>\n<polygon fill=\"#4a4a4a\" stroke=\"#4a4a4a\" points=\"83.95,-108.23 73.86,-105.01 79.74,-113.82 83.95,-108.23\"/>\n</a>\n</g>\n</g>\n<!-- target0&#45;&gt;worldSpeed0 -->\n<g id=\"edge4\" class=\"edge\">\n<title>target0-&gt;worldSpeed0</title>\n<g id=\"a_edge4\"><a xlink:title=\"2 → 3\">\n<path fill=\"none\" stroke=\"#4a4a4a\" d=\"M151.88,-144.05C153.55,-136.26 155.57,-126.82 157.44,-118.08\"/>\n<polygon fill=\"#4a4a4a\" stroke=\"#4a4a4a\" points=\"160.87,-118.79 159.54,-108.28 154.03,-117.32 160.87,-118.79\"/>\n</a>\n</g>\n</g>\n<!-- visible0 -->\n<g id=\"node7\" class=\"node\">\n<title>visible0</title>\n<g id=\"a_node7\"><a xlink:title=\"(0) visible0\">\n<ellipse fill=\"#404040\" stroke=\"black\" cx=\"148.25\" cy=\"-306\" rx=\"38.19\" ry=\"18\"/>\n<text text-anchor=\"middle\" x=\"148.25\" y=\"-302.3\" font-family=\"Times New Roman,serif\" font-size=\"14.00\" fill=\"white\">visible0</text>\n</a>\n</g>\n</g>\n<!-- visible0&#45;&gt;engage0 -->\n<g id=\"edge1\" class=\"edge\">\n<title>visible0-&gt;engage0</title>\n<g id=\"a_edge1\"><a xlink:title=\"0 → 1\">\n<path fill=\"none\" stroke=\"#4a4a4a\" d=\"M148.25,-287.7C148.25,-279.98 148.25,-270.71 148.25,-262.11\"/>\n<polygon fill=\"#4a4a4a\" stroke=\"#4a4a4a\" points=\"151.75,-262.1 148.25,-252.1 144.75,-262.1 151.75,-262.1\"/>\n</a>\n</g>\n</g>\n</g>\n</svg>"
     },
     "execution_count": 35,
     "metadata": {},
     "output_type": "execute_result"
    }
   ],
   "source": [
    "twodbn=gum.fastBN(\"visible0->engage0;engage0->target0;target0->worldSpeed0;visiblet->engaget;engaget->targett;targett->worldSpeedt;engage0->engaget;target0->targett\",6)\n",
    "twodbn"
   ],
   "metadata": {
    "collapsed": false
   }
  },
  {
   "cell_type": "code",
   "execution_count": 38,
   "outputs": [],
   "source": [
    "twodbn=gum.BayesNet()\n",
    "e0 = twodbn.add(gum.LabelizedVariable(\"2engage0\",\"engage\",2))\n",
    "t0 = twodbn.add(gum.LabelizedVariable(\"2target0\",\"target\",2))\n",
    "v0 = twodbn.add(gum.LabelizedVariable(\"1visible0\",\"visible\",2))\n",
    "ws0 = twodbn.add(gum.LabelizedVariable(\"ws0\",\"worldSpeed\",2))\n",
    "et = twodbn.add(gum.LabelizedVariable(\"et\",\"engage\",2))\n",
    "tt = twodbn.add(gum.LabelizedVariable(\"tt\",\"target\",2))\n",
    "vt = twodbn.add(gum.LabelizedVariable(\"vt\",\"visible\",2))\n",
    "wst = twodbn.add(gum.LabelizedVariable(\"wst\",\"worldSpeed\",2))\n",
    "\n",
    "twodbn.addArc(e0, et)\n",
    "twodbn.addArc(t0, tt)\n",
    "\n",
    "twodbn.addArc(v0, e0)\n",
    "twodbn.addArc(e0, t0)\n",
    "twodbn.addArc(t0, ws0)\n",
    "\n",
    "twodbn.addArc(vt, et)\n",
    "twodbn.addArc(et, tt)\n",
    "twodbn.addArc(tt, wst)"
   ],
   "metadata": {
    "collapsed": false
   }
  },
  {
   "cell_type": "code",
   "execution_count": null,
   "outputs": [],
   "source": [],
   "metadata": {
    "collapsed": false
   }
  },
  {
   "cell_type": "code",
   "execution_count": 39,
   "outputs": [
    {
     "data": {
      "text/plain": "<IPython.core.display.SVG object>",
      "image/svg+xml": "<svg xmlns=\"http://www.w3.org/2000/svg\" xmlns:xlink=\"http://www.w3.org/1999/xlink\" width=\"213pt\" height=\"261pt\" viewBox=\"0.00 0.00 213.00 261.00\">\n<g id=\"graph0\" class=\"graph\" transform=\"scale(1 1) rotate(0) translate(4 257)\">\n<title>G</title>\n<polygon fill=\"white\" stroke=\"transparent\" points=\"-4,4 -4,-257 209,-257 209,4 -4,4\"/>\n<g id=\"clust1\" class=\"cluster\">\n<title>cluster_0</title>\n<polygon fill=\"#dddddd\" stroke=\"black\" points=\"9,-8 9,-245 94,-245 94,-8 9,-8\"/>\n<text text-anchor=\"middle\" x=\"51.5\" y=\"-229.8\" font-family=\"Times New Roman,serif\" font-size=\"14.00\">Time slice 0</text>\n</g>\n<g id=\"clust2\" class=\"cluster\">\n<title>cluster_t</title>\n<polygon fill=\"#dddddd\" stroke=\"black\" points=\"114,-8 114,-245 196,-245 196,-8 114,-8\"/>\n<text text-anchor=\"middle\" x=\"155\" y=\"-229.8\" font-family=\"Times New Roman,serif\" font-size=\"14.00\">Time slice t</text>\n</g>\n<!-- e0 -->\n<g id=\"node1\" class=\"node\">\n<title>e0</title>\n<ellipse fill=\"white\" stroke=\"#000000\" cx=\"51\" cy=\"-196\" rx=\"27\" ry=\"18\"/>\n<text text-anchor=\"middle\" x=\"51\" y=\"-192.3\" font-family=\"Times New Roman,serif\" font-size=\"14.00\">e</text>\n</g>\n<!-- t0 -->\n<g id=\"node2\" class=\"node\">\n<title>t0</title>\n<ellipse fill=\"white\" stroke=\"#000000\" cx=\"51\" cy=\"-142\" rx=\"27\" ry=\"18\"/>\n<text text-anchor=\"middle\" x=\"51\" y=\"-138.3\" font-family=\"Times New Roman,serif\" font-size=\"14.00\">t</text>\n</g>\n<!-- e0&#45;&gt;t0 -->\n<g id=\"edge1\" class=\"edge\">\n<title>e0-&gt;t0</title>\n<path fill=\"none\" stroke=\"blue\" d=\"M51,-177.72C51,-177.72 51,-170.26 51,-170.26\"/>\n<polygon fill=\"blue\" stroke=\"blue\" points=\"54.5,-170.26 51,-160.26 47.5,-170.26 54.5,-170.26\"/>\n</g>\n<!-- et -->\n<g id=\"node5\" class=\"node\">\n<title>et</title>\n<ellipse fill=\"white\" stroke=\"#000000\" cx=\"155\" cy=\"-196\" rx=\"27\" ry=\"18\"/>\n<text text-anchor=\"middle\" x=\"155\" y=\"-192.3\" font-family=\"Times New Roman,serif\" font-size=\"14.00\">e</text>\n</g>\n<!-- e0&#45;&gt;et -->\n<g id=\"edge2\" class=\"edge\">\n<title>e0-&gt;et</title>\n<path fill=\"none\" stroke=\"blue\" d=\"M76.71,-190C76.71,-190 119.23,-190 119.23,-190\"/>\n<polygon fill=\"blue\" stroke=\"blue\" points=\"119.23,-193.5 129.23,-190 119.23,-186.5 119.23,-193.5\"/>\n</g>\n<!-- e0&#45;&gt;et -->\n<!-- ws0 -->\n<g id=\"node4\" class=\"node\">\n<title>ws0</title>\n<ellipse fill=\"white\" stroke=\"#000000\" cx=\"51\" cy=\"-34\" rx=\"27\" ry=\"18\"/>\n<text text-anchor=\"middle\" x=\"51\" y=\"-30.3\" font-family=\"Times New Roman,serif\" font-size=\"14.00\">ws</text>\n</g>\n<!-- t0&#45;&gt;ws0 -->\n<g id=\"edge8\" class=\"edge\">\n<title>t0-&gt;ws0</title>\n<path fill=\"none\" stroke=\"blue\" d=\"M23.71,-142C11.58,-142 0,-142 0,-142 0,-142 0,-34 0,-34 0,-34 13.71,-34 13.71,-34\"/>\n<polygon fill=\"blue\" stroke=\"blue\" points=\"13.71,-37.5 23.71,-34 13.71,-30.5 13.71,-37.5\"/>\n</g>\n<!-- tt -->\n<g id=\"node6\" class=\"node\">\n<title>tt</title>\n<ellipse fill=\"white\" stroke=\"#000000\" cx=\"155\" cy=\"-142\" rx=\"27\" ry=\"18\"/>\n<text text-anchor=\"middle\" x=\"155\" y=\"-138.3\" font-family=\"Times New Roman,serif\" font-size=\"14.00\">t</text>\n</g>\n<!-- t0&#45;&gt;tt -->\n<g id=\"edge3\" class=\"edge\">\n<title>t0-&gt;tt</title>\n<path fill=\"none\" stroke=\"blue\" d=\"M76.71,-148C76.71,-148 119.23,-148 119.23,-148\"/>\n<polygon fill=\"blue\" stroke=\"blue\" points=\"119.23,-151.5 129.23,-148 119.23,-144.5 119.23,-151.5\"/>\n</g>\n<!-- t0&#45;&gt;tt -->\n<!-- v0 -->\n<g id=\"node3\" class=\"node\">\n<title>v0</title>\n<ellipse fill=\"white\" stroke=\"#000000\" cx=\"51\" cy=\"-88\" rx=\"27\" ry=\"18\"/>\n<text text-anchor=\"middle\" x=\"51\" y=\"-84.3\" font-family=\"Times New Roman,serif\" font-size=\"14.00\">v</text>\n</g>\n<!-- v0&#45;&gt;e0 -->\n<g id=\"edge4\" class=\"edge\">\n<title>v0-&gt;e0</title>\n<path fill=\"none\" stroke=\"blue\" d=\"M23.91,-88C17.26,-88 12,-88 12,-88 12,-88 12,-196 12,-196 12,-196 13.91,-196 13.91,-196\"/>\n<polygon fill=\"blue\" stroke=\"blue\" points=\"13.91,-199.5 23.91,-196 13.91,-192.5 13.91,-199.5\"/>\n</g>\n<!-- vt -->\n<g id=\"node7\" class=\"node\">\n<title>vt</title>\n<ellipse fill=\"white\" stroke=\"#000000\" cx=\"155\" cy=\"-88\" rx=\"27\" ry=\"18\"/>\n<text text-anchor=\"middle\" x=\"155\" y=\"-84.3\" font-family=\"Times New Roman,serif\" font-size=\"14.00\">v</text>\n</g>\n<!-- v0&#45;&gt;vt -->\n<!-- wst -->\n<g id=\"node8\" class=\"node\">\n<title>wst</title>\n<ellipse fill=\"white\" stroke=\"#000000\" cx=\"155\" cy=\"-34\" rx=\"27\" ry=\"18\"/>\n<text text-anchor=\"middle\" x=\"155\" y=\"-30.3\" font-family=\"Times New Roman,serif\" font-size=\"14.00\">ws</text>\n</g>\n<!-- ws0&#45;&gt;wst -->\n<!-- et&#45;&gt;tt -->\n<g id=\"edge7\" class=\"edge\">\n<title>et-&gt;tt</title>\n<path fill=\"none\" stroke=\"blue\" d=\"M155,-177.72C155,-177.72 155,-170.26 155,-170.26\"/>\n<polygon fill=\"blue\" stroke=\"blue\" points=\"158.5,-170.26 155,-160.26 151.5,-170.26 158.5,-170.26\"/>\n</g>\n<!-- tt&#45;&gt;wst -->\n<g id=\"edge6\" class=\"edge\">\n<title>tt-&gt;wst</title>\n<path fill=\"none\" stroke=\"blue\" d=\"M182.05,-142C193.83,-142 205,-142 205,-142 205,-142 205,-34 205,-34 205,-34 192.05,-34 192.05,-34\"/>\n<polygon fill=\"blue\" stroke=\"blue\" points=\"192.05,-30.5 182.05,-34 192.05,-37.5 192.05,-30.5\"/>\n</g>\n<!-- vt&#45;&gt;et -->\n<g id=\"edge5\" class=\"edge\">\n<title>vt-&gt;et</title>\n<path fill=\"none\" stroke=\"blue\" d=\"M182.09,-88C188.74,-88 194,-88 194,-88 194,-88 194,-196 194,-196 194,-196 192.09,-196 192.09,-196\"/>\n<polygon fill=\"blue\" stroke=\"blue\" points=\"192.09,-192.5 182.09,-196 192.09,-199.5 192.09,-192.5\"/>\n</g>\n</g>\n</svg>"
     },
     "metadata": {},
     "output_type": "display_data"
    }
   ],
   "source": [
    "gdyn.showTimeSlices(twodbn)"
   ],
   "metadata": {
    "collapsed": false
   }
  },
  {
   "cell_type": "code",
   "execution_count": null,
   "outputs": [],
   "source": [],
   "metadata": {
    "collapsed": false
   }
  }
 ],
 "metadata": {
  "kernelspec": {
   "display_name": "Python 3",
   "language": "python",
   "name": "python3"
  },
  "language_info": {
   "codemirror_mode": {
    "name": "ipython",
    "version": 2
   },
   "file_extension": ".py",
   "mimetype": "text/x-python",
   "name": "python",
   "nbconvert_exporter": "python",
   "pygments_lexer": "ipython2",
   "version": "2.7.6"
  }
 },
 "nbformat": 4,
 "nbformat_minor": 0
}
